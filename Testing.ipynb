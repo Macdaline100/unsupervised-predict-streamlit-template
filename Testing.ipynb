{
  "nbformat": 4,
  "nbformat_minor": 0,
  "metadata": {
    "accelerator": "GPU",
    "colab": {
      "name": "Explore Data Science.ipynb",
      "provenance": [],
      "collapsed_sections": [],
      "authorship_tag": "ABX9TyOkIq4MMcved+wnO6SXoKNk",
      "include_colab_link": true
    },
    "kernelspec": {
      "display_name": "Python 3",
      "name": "python3"
    },
    "language_info": {
      "name": "python"
    }
  },
  "cells": [
    {
      "cell_type": "markdown",
      "metadata": {
        "id": "view-in-github",
        "colab_type": "text"
      },
      "source": [
        "<a href=\"https://colab.research.google.com/github/Macdaline100/unsupervised-predict-streamlit-template/blob/master/Testing.ipynb\" target=\"_parent\"><img src=\"https://colab.research.google.com/assets/colab-badge.svg\" alt=\"Open In Colab\"/></a>"
      ]
    },
    {
      "cell_type": "markdown",
      "metadata": {
        "id": "xuhEVruoKhWH"
      },
      "source": [
        "#  <font color=red>Explore data science<font>\n",
        "Academic year: 2021-2021"
      ]
    },
    {
      "cell_type": "markdown",
      "metadata": {
        "id": "zO1_dO7BK4JM"
      },
      "source": [
        "**Strings**"
      ]
    },
    {
      "cell_type": "code",
      "metadata": {
        "colab": {
          "base_uri": "https://localhost:8080/"
        },
        "id": "XzZQT2Ye6AkE",
        "outputId": "5389b4f3-f2db-4675-be17-df3251ea7e94"
      },
      "source": [
        "print(\"Hello World\")\n",
        "print(5)"
      ],
      "execution_count": null,
      "outputs": [
        {
          "output_type": "stream",
          "text": [
            "Hello World\n",
            "5\n"
          ],
          "name": "stdout"
        }
      ]
    },
    {
      "cell_type": "markdown",
      "metadata": {
        "id": "H1esKmMKLaNO"
      },
      "source": [
        "**Functions**"
      ]
    },
    {
      "cell_type": "code",
      "metadata": {
        "id": "ZKmCZfv76MHN"
      },
      "source": [
        "#Building a function\n",
        "def my_function(var1,var2):\n",
        "  ans=var1*var2\n",
        "  return ans\n"
      ],
      "execution_count": null,
      "outputs": []
    },
    {
      "cell_type": "code",
      "metadata": {
        "colab": {
          "base_uri": "https://localhost:8080/"
        },
        "id": "NvuVmEydL8aN",
        "outputId": "72295016-23dd-4596-df0a-d279ae357b7b"
      },
      "source": [
        "my_function(8,2)"
      ],
      "execution_count": null,
      "outputs": [
        {
          "output_type": "execute_result",
          "data": {
            "text/plain": [
              "16"
            ]
          },
          "metadata": {
            "tags": []
          },
          "execution_count": 5
        }
      ]
    },
    {
      "cell_type": "code",
      "metadata": {
        "id": "sYlv0_GlL8d5"
      },
      "source": [
        "pv=1000\n",
        "I=20/100\n",
        "n= 1\n",
        "def future_value_2(present_value, Interest_rate, term):\n",
        "  results=present_value*(1+ Interest_rate)**term\n",
        "  return results\n",
        "\n",
        "\n"
      ],
      "execution_count": null,
      "outputs": []
    },
    {
      "cell_type": "code",
      "metadata": {
        "colab": {
          "base_uri": "https://localhost:8080/"
        },
        "id": "-ILhfD-WONbp",
        "outputId": "17a77434-aa42-433b-e9a9-8b1bd79c0b58"
      },
      "source": [
        "pv"
      ],
      "execution_count": null,
      "outputs": [
        {
          "output_type": "execute_result",
          "data": {
            "text/plain": [
              "1000"
            ]
          },
          "metadata": {
            "tags": []
          },
          "execution_count": 9
        }
      ]
    },
    {
      "cell_type": "code",
      "metadata": {
        "colab": {
          "base_uri": "https://localhost:8080/"
        },
        "id": "VpaGqaETL8hP",
        "outputId": "72602cd8-82dd-4d14-f38d-b4b5cedbf49a"
      },
      "source": [
        "future_value_2(pv,I,n)"
      ],
      "execution_count": null,
      "outputs": [
        {
          "output_type": "execute_result",
          "data": {
            "text/plain": [
              "1200.0"
            ]
          },
          "metadata": {
            "tags": []
          },
          "execution_count": 11
        }
      ]
    },
    {
      "cell_type": "code",
      "metadata": {
        "colab": {
          "base_uri": "https://localhost:8080/"
        },
        "id": "vaXmLqUEOnTF",
        "outputId": "2e2970bc-4aca-4b5b-c02e-bea1399ba63f"
      },
      "source": [
        "string=\"This is a string\"\n",
        "num_chars = len(string)\n",
        "print(\"String_1 is \"+str(num_chars)+\" characters long\")"
      ],
      "execution_count": null,
      "outputs": [
        {
          "output_type": "stream",
          "text": [
            "String_1 is 16 characters long\n"
          ],
          "name": "stdout"
        }
      ]
    },
    {
      "cell_type": "code",
      "metadata": {
        "colab": {
          "base_uri": "https://localhost:8080/"
        },
        "id": "7pwTWrj3QAlf",
        "outputId": "dc04be29-971b-43f5-8acb-c61df91de46b"
      },
      "source": [
        "y=10\n",
        "def my_fun():\n",
        "  x=2\n",
        "  print(\"its x\",x)\n",
        "  print(\"its y\",y)\n",
        "\n",
        "my_fun()"
      ],
      "execution_count": null,
      "outputs": [
        {
          "output_type": "stream",
          "text": [
            "its x 2\n",
            "its y 10\n"
          ],
          "name": "stdout"
        }
      ]
    },
    {
      "cell_type": "code",
      "metadata": {
        "colab": {
          "base_uri": "https://localhost:8080/",
          "height": 35
        },
        "id": "4ln8KtQSL8ks",
        "outputId": "8d3092f7-f50c-4f47-fad2-4909de9ebcb2"
      },
      "source": [
        "string.upper()"
      ],
      "execution_count": null,
      "outputs": [
        {
          "output_type": "execute_result",
          "data": {
            "application/vnd.google.colaboratory.intrinsic+json": {
              "type": "string"
            },
            "text/plain": [
              "'THIS IS A STRING'"
            ]
          },
          "metadata": {
            "tags": []
          },
          "execution_count": 15
        }
      ]
    },
    {
      "cell_type": "markdown",
      "metadata": {
        "id": "G0LoR_aq6KLm"
      },
      "source": [
        "# New Section"
      ]
    },
    {
      "cell_type": "code",
      "metadata": {
        "colab": {
          "base_uri": "https://localhost:8080/"
        },
        "id": "DwAmq3JlTPyV",
        "outputId": "249e707d-fc73-4fe5-b99c-c9fc9f936333"
      },
      "source": [
        "Age=25\n",
        "Age<29"
      ],
      "execution_count": null,
      "outputs": [
        {
          "output_type": "execute_result",
          "data": {
            "text/plain": [
              "True"
            ]
          },
          "metadata": {
            "tags": []
          },
          "execution_count": 16
        }
      ]
    },
    {
      "cell_type": "code",
      "metadata": {
        "id": "xK804JunTV7w"
      },
      "source": [
        "type(5)\n",
        "#Modulo % returns the remainder\n"
      ],
      "execution_count": null,
      "outputs": []
    },
    {
      "cell_type": "markdown",
      "metadata": {
        "id": "pWPUkkMKWPKS"
      },
      "source": [
        "Logical operators\n",
        "\n",
        "and : True if both are true(x and y), this operator is used to check whether both conditions are true\n",
        "\n",
        "or : True if at least one is true (x or y), this operator is used check is either of the conditions is true\n",
        "\n",
        "not : True only if false (not x), this operator is used to check for inequality"
      ]
    },
    {
      "cell_type": "markdown",
      "metadata": {
        "id": "UffI3gz-XZlY"
      },
      "source": [
        "Excercise"
      ]
    },
    {
      "cell_type": "code",
      "metadata": {
        "colab": {
          "base_uri": "https://localhost:8080/"
        },
        "id": "g8_mapg7Xd2P",
        "outputId": "6c4c4e77-aa22-4dce-a6a8-3e300e307360"
      },
      "source": [
        "3*3"
      ],
      "execution_count": null,
      "outputs": [
        {
          "output_type": "execute_result",
          "data": {
            "text/plain": [
              "9"
            ]
          },
          "metadata": {
            "tags": []
          },
          "execution_count": 17
        }
      ]
    },
    {
      "cell_type": "code",
      "metadata": {
        "colab": {
          "base_uri": "https://localhost:8080/"
        },
        "id": "DtO1SsQxXjSt",
        "outputId": "23761c87-98b2-44f1-d278-751b42788f49"
      },
      "source": [
        "int(144/12)"
      ],
      "execution_count": null,
      "outputs": [
        {
          "output_type": "execute_result",
          "data": {
            "text/plain": [
              "12"
            ]
          },
          "metadata": {
            "tags": []
          },
          "execution_count": 19
        }
      ]
    },
    {
      "cell_type": "code",
      "metadata": {
        "colab": {
          "base_uri": "https://localhost:8080/"
        },
        "id": "gAlxwYrsXruG",
        "outputId": "3b28a828-2fe4-426d-9b1f-7c3ddc5ca32d"
      },
      "source": [
        "1565%3"
      ],
      "execution_count": null,
      "outputs": [
        {
          "output_type": "execute_result",
          "data": {
            "text/plain": [
              "2"
            ]
          },
          "metadata": {
            "tags": []
          },
          "execution_count": 20
        }
      ]
    },
    {
      "cell_type": "code",
      "metadata": {
        "colab": {
          "base_uri": "https://localhost:8080/"
        },
        "id": "CFjOrBveXw5p",
        "outputId": "b404b622-206e-442a-f80a-6fb70b061d4c"
      },
      "source": [
        "import math\n",
        "math.sqrt(22/7)"
      ],
      "execution_count": null,
      "outputs": [
        {
          "output_type": "execute_result",
          "data": {
            "text/plain": [
              "1.7728105208558367"
            ]
          },
          "metadata": {
            "tags": []
          },
          "execution_count": 1
        }
      ]
    },
    {
      "cell_type": "code",
      "metadata": {
        "colab": {
          "base_uri": "https://localhost:8080/"
        },
        "id": "_Pnd82QUYNJ-",
        "outputId": "99976195-3f3b-4611-9498-8b8195ff7abf"
      },
      "source": [
        "(22/7 + (3.14)**2)*(3/0.025)"
      ],
      "execution_count": null,
      "outputs": [
        {
          "output_type": "execute_result",
          "data": {
            "text/plain": [
              "1560.2948571428572"
            ]
          },
          "metadata": {
            "tags": []
          },
          "execution_count": 2
        }
      ]
    },
    {
      "cell_type": "code",
      "metadata": {
        "colab": {
          "base_uri": "https://localhost:8080/"
        },
        "id": "08FHzRcEX6u7",
        "outputId": "6df61122-3fa9-4a84-a660-7fc4c1b6966b"
      },
      "source": [
        "((3/math.sqrt(11))**2 * 0.5 *7/9)**(-1)"
      ],
      "execution_count": null,
      "outputs": [
        {
          "output_type": "execute_result",
          "data": {
            "text/plain": [
              "3.142857142857143"
            ]
          },
          "metadata": {
            "tags": []
          },
          "execution_count": 98
        }
      ]
    },
    {
      "cell_type": "code",
      "metadata": {
        "colab": {
          "base_uri": "https://localhost:8080/"
        },
        "id": "Aym7Z0-G14R-",
        "outputId": "90cf4cd2-0fab-470d-afbe-98b474292f8b"
      },
      "source": [
        "round(((3/math.sqrt(11))**2 * 0.5 *7/9)**(-1),2)"
      ],
      "execution_count": null,
      "outputs": [
        {
          "output_type": "execute_result",
          "data": {
            "text/plain": [
              "3.14"
            ]
          },
          "metadata": {
            "tags": []
          },
          "execution_count": 99
        }
      ]
    },
    {
      "cell_type": "markdown",
      "metadata": {
        "id": "S6nouY6u_0Sv"
      },
      "source": [
        "**Challenge 1**\n"
      ]
    },
    {
      "cell_type": "code",
      "metadata": {
        "id": "rfJeZSLfD7vP"
      },
      "source": [
        "#Python Challenge\n",
        "def combine(words):\n",
        "  combined=''.join(words)\n",
        "  return combined"
      ],
      "execution_count": null,
      "outputs": []
    },
    {
      "cell_type": "code",
      "metadata": {
        "id": "oAvmFT4BXm3z"
      },
      "source": [
        "words=['Hi',', ','my',' ','name',' ','is',' ','Macdaline']"
      ],
      "execution_count": null,
      "outputs": []
    },
    {
      "cell_type": "code",
      "metadata": {
        "colab": {
          "base_uri": "https://localhost:8080/"
        },
        "id": "IhkL5911971k",
        "outputId": "e4884deb-d750-45ee-f5da-977e35b20734"
      },
      "source": [
        "words"
      ],
      "execution_count": null,
      "outputs": [
        {
          "output_type": "execute_result",
          "data": {
            "text/plain": [
              "['Hi', ', ', 'my', ' ', 'name', ' ', 'is', ' ', 'Macdaline']"
            ]
          },
          "metadata": {
            "tags": []
          },
          "execution_count": 71
        }
      ]
    },
    {
      "cell_type": "code",
      "metadata": {
        "colab": {
          "base_uri": "https://localhost:8080/",
          "height": 35
        },
        "id": "V8-wpNXy4bIb",
        "outputId": "350d6384-c026-4d6a-d313-8f2982d3ae0e"
      },
      "source": [
        "combine(words)"
      ],
      "execution_count": null,
      "outputs": [
        {
          "output_type": "execute_result",
          "data": {
            "application/vnd.google.colaboratory.intrinsic+json": {
              "type": "string"
            },
            "text/plain": [
              "'Hi, my name is Macdaline'"
            ]
          },
          "metadata": {
            "tags": []
          },
          "execution_count": 72
        }
      ]
    },
    {
      "cell_type": "code",
      "metadata": {
        "colab": {
          "base_uri": "https://localhost:8080/",
          "height": 35
        },
        "id": "Lhn1U6Uq9i0b",
        "outputId": "41a98f7e-e867-431d-8173-5b582aa604f5"
      },
      "source": [
        "combine(['Hello',', ','how',' ','are',' ','you','?'])"
      ],
      "execution_count": null,
      "outputs": [
        {
          "output_type": "execute_result",
          "data": {
            "application/vnd.google.colaboratory.intrinsic+json": {
              "type": "string"
            },
            "text/plain": [
              "'Hello, how are you?'"
            ]
          },
          "metadata": {
            "tags": []
          },
          "execution_count": 65
        }
      ]
    },
    {
      "cell_type": "code",
      "metadata": {
        "colab": {
          "base_uri": "https://localhost:8080/"
        },
        "id": "0C16FR219dUl",
        "outputId": "2a9fcb27-8a2d-439f-a6fc-c901cc91eac0"
      },
      "source": [
        "combine(['Hello',', ','how',' ','are',' ','you','?']) == 'Hello, how are you?'"
      ],
      "execution_count": null,
      "outputs": [
        {
          "output_type": "execute_result",
          "data": {
            "text/plain": [
              "True"
            ]
          },
          "metadata": {
            "tags": []
          },
          "execution_count": 66
        }
      ]
    },
    {
      "cell_type": "code",
      "metadata": {
        "colab": {
          "base_uri": "https://localhost:8080/"
        },
        "id": "tF9WBm0g_ohl",
        "outputId": "ba174861-e10d-45ee-ff37-a4058a1f2449"
      },
      "source": [
        "combine(['I ','can ','code',' in ','Python!']) == 'I can code in Python!'"
      ],
      "execution_count": null,
      "outputs": [
        {
          "output_type": "execute_result",
          "data": {
            "text/plain": [
              "True"
            ]
          },
          "metadata": {
            "tags": []
          },
          "execution_count": 67
        }
      ]
    },
    {
      "cell_type": "markdown",
      "metadata": {
        "id": "WZaQVuftKfnK"
      },
      "source": [
        ""
      ]
    },
    {
      "cell_type": "markdown",
      "metadata": {
        "id": "9c51ZLui_-pQ"
      },
      "source": [
        "Challenge **2**"
      ]
    },
    {
      "cell_type": "code",
      "metadata": {
        "id": "zudf1zK7ADOa"
      },
      "source": [
        "### START FUNCTION\n",
        "def separate(sentence):\n",
        "    separated1=sentence.split(\" \")\n",
        "    return separated1\n",
        "### END FUNCTION"
      ],
      "execution_count": null,
      "outputs": []
    },
    {
      "cell_type": "code",
      "metadata": {
        "id": "KzkwcVFtAiwx"
      },
      "source": [
        "sentence=\"Hi, my name is Macdaline\""
      ],
      "execution_count": null,
      "outputs": []
    },
    {
      "cell_type": "code",
      "metadata": {
        "colab": {
          "base_uri": "https://localhost:8080/"
        },
        "id": "QkkE4VlaAIe0",
        "outputId": "68b3006f-452b-498f-c462-f563068a80b5"
      },
      "source": [
        " separate(sentence)"
      ],
      "execution_count": null,
      "outputs": [
        {
          "output_type": "execute_result",
          "data": {
            "text/plain": [
              "['Hi,', 'my', 'name', 'is', 'Macdaline']"
            ]
          },
          "metadata": {
            "tags": []
          },
          "execution_count": 102
        }
      ]
    },
    {
      "cell_type": "code",
      "metadata": {
        "colab": {
          "base_uri": "https://localhost:8080/"
        },
        "id": "L2Tz5MphAIiU",
        "outputId": "065288c1-70e1-489f-977e-d9663311a1f7"
      },
      "source": [
        " separate(\"Let's do this!\")==[\"Let's\", 'do', 'this!']"
      ],
      "execution_count": null,
      "outputs": [
        {
          "output_type": "execute_result",
          "data": {
            "text/plain": [
              "True"
            ]
          },
          "metadata": {
            "tags": []
          },
          "execution_count": 103
        }
      ]
    },
    {
      "cell_type": "code",
      "metadata": {
        "colab": {
          "base_uri": "https://localhost:8080/"
        },
        "id": "H8fLoRdbCK0v",
        "outputId": "b5c2e487-fdc9-4344-f956-cd408a0292e1"
      },
      "source": [
        "separate('Hello, how are you?') == ['Hello,', 'how', 'are', 'you?']"
      ],
      "execution_count": null,
      "outputs": [
        {
          "output_type": "execute_result",
          "data": {
            "text/plain": [
              "True"
            ]
          },
          "metadata": {
            "tags": []
          },
          "execution_count": 104
        }
      ]
    },
    {
      "cell_type": "markdown",
      "metadata": {
        "id": "mCmVirVvCkwk"
      },
      "source": [
        "**Challenge 3**"
      ]
    },
    {
      "cell_type": "code",
      "metadata": {
        "id": "TNjyf9BpJHnI"
      },
      "source": [
        "### START FUNCTION\n",
        "def edit(sentence):\n",
        "    edited=sentence.upper().split(\" \")\n",
        "    return edited\n",
        "### END FUNCTION"
      ],
      "execution_count": null,
      "outputs": []
    },
    {
      "cell_type": "code",
      "metadata": {
        "id": "fvMrIO__JHpx"
      },
      "source": [
        "sentence=\"Hi, my name is Macdaline\""
      ],
      "execution_count": null,
      "outputs": []
    },
    {
      "cell_type": "code",
      "metadata": {
        "colab": {
          "base_uri": "https://localhost:8080/"
        },
        "id": "9zKHl03SJHsb",
        "outputId": "9b2d0318-b47e-4988-80d6-0c75860e4353"
      },
      "source": [
        "edit(sentence)"
      ],
      "execution_count": null,
      "outputs": [
        {
          "output_type": "execute_result",
          "data": {
            "text/plain": [
              "['HI,', 'MY', 'NAME', 'IS', 'MACDALINE']"
            ]
          },
          "metadata": {
            "tags": []
          },
          "execution_count": 94
        }
      ]
    },
    {
      "cell_type": "code",
      "metadata": {
        "colab": {
          "base_uri": "https://localhost:8080/"
        },
        "id": "kMK7CbCMJHvz",
        "outputId": "9052fe04-ce94-4e16-92d9-ae9f01b22de7"
      },
      "source": [
        "edit('Hello, how are you?') == ['HELLO,', 'HOW', 'ARE', 'YOU?']\n"
      ],
      "execution_count": null,
      "outputs": [
        {
          "output_type": "execute_result",
          "data": {
            "text/plain": [
              "True"
            ]
          },
          "metadata": {
            "tags": []
          },
          "execution_count": 96
        }
      ]
    },
    {
      "cell_type": "code",
      "metadata": {
        "colab": {
          "base_uri": "https://localhost:8080/"
        },
        "id": "bZcqk-o1JxjS",
        "outputId": "5c22d7b8-ce21-458f-b21b-4165aa99d041"
      },
      "source": [
        "edit('I can code in Python!') == ['I', 'CAN', 'CODE', 'IN', 'PYTHON!']"
      ],
      "execution_count": null,
      "outputs": [
        {
          "output_type": "execute_result",
          "data": {
            "text/plain": [
              "True"
            ]
          },
          "metadata": {
            "tags": []
          },
          "execution_count": 97
        }
      ]
    },
    {
      "cell_type": "markdown",
      "metadata": {
        "id": "eGScarfSKPnL"
      },
      "source": [
        "Software Testing Challenge\n"
      ]
    },
    {
      "cell_type": "code",
      "metadata": {
        "id": "5vqJq-ZEKOxa"
      },
      "source": [
        ""
      ],
      "execution_count": null,
      "outputs": []
    },
    {
      "cell_type": "code",
      "metadata": {
        "id": "JL4xZVcEKPA7"
      },
      "source": [
        ""
      ],
      "execution_count": null,
      "outputs": []
    }
  ]
}